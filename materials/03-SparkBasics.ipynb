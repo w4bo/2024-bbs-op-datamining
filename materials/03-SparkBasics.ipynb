{
  "cells": [
    {
      "cell_type": "markdown",
      "metadata": {
        "id": "view-in-github",
        "colab_type": "text"
      },
      "source": [
        "<a href=\"https://colab.research.google.com/github/w4bo/2023-bbs-op-datamining/blob/main/materials/03-SparkBasics.ipynb\" target=\"_parent\"><img src=\"https://colab.research.google.com/assets/colab-badge.svg\" alt=\"Open In Colab\"/></a>"
      ]
    },
    {
      "cell_type": "markdown",
      "metadata": {
        "id": "EsElqAaj4Sse"
      },
      "source": [
        "# Install Spark & initialize application\n",
        "\n",
        "Run the following code to install Spark in your Colab environment."
      ]
    },
    {
      "cell_type": "code",
      "execution_count": 83,
      "metadata": {
        "id": "fbvEUbWIHm2s",
        "outputId": "ab32f12f-a830-419e-a2ff-553d6777d46a",
        "colab": {
          "base_uri": "https://localhost:8080/"
        }
      },
      "outputs": [
        {
          "output_type": "stream",
          "name": "stdout",
          "text": [
            "\u001b[33m\r0% [Working]\u001b[0m\r            \rHit:1 http://security.ubuntu.com/ubuntu jammy-security InRelease\n",
            "\u001b[33m\r0% [Waiting for headers] [Connected to cloud.r-project.org (108.157.162.43)] [C\u001b[0m\r                                                                               \rHit:2 https://cloud.r-project.org/bin/linux/ubuntu jammy-cran40/ InRelease\n",
            "Hit:3 https://developer.download.nvidia.com/compute/cuda/repos/ubuntu2204/x86_64  InRelease\n",
            "Hit:4 http://archive.ubuntu.com/ubuntu jammy InRelease\n",
            "Hit:5 http://archive.ubuntu.com/ubuntu jammy-updates InRelease\n",
            "Hit:6 http://archive.ubuntu.com/ubuntu jammy-backports InRelease\n",
            "Hit:7 https://ppa.launchpadcontent.net/c2d4u.team/c2d4u4.0+/ubuntu jammy InRelease\n",
            "Hit:8 https://ppa.launchpadcontent.net/deadsnakes/ppa/ubuntu jammy InRelease\n",
            "Hit:9 https://ppa.launchpadcontent.net/graphics-drivers/ppa/ubuntu jammy InRelease\n",
            "Hit:10 https://ppa.launchpadcontent.net/ubuntugis/ppa/ubuntu jammy InRelease\n",
            "Reading package lists... Done\n",
            "Building dependency tree... Done\n",
            "Reading state information... Done\n",
            "18 packages can be upgraded. Run 'apt list --upgradable' to see them.\n",
            "openjdk version \"11.0.20.1\" 2023-08-24\n",
            "OpenJDK Runtime Environment (build 11.0.20.1+1-post-Ubuntu-0ubuntu122.04)\n",
            "OpenJDK 64-Bit Server VM (build 11.0.20.1+1-post-Ubuntu-0ubuntu122.04, mixed mode, sharing)\n",
            "mv: 'spark-3.2.1-bin-hadoop2.7' and '/content/spark-3.2.1-bin-hadoop2.7' are the same file\n"
          ]
        }
      ],
      "source": [
        "!apt update\n",
        "# !apt-get install software-properties-common -y\n",
        "# !add-apt-repository ppa:webupd8team/java\n",
        "!apt-get install openjdk-8-jdk-headless -qq > /dev/null\n",
        "!java -version\n",
        "!rm spark-3.2.1-bin-hadoop2.7.tgz | true\n",
        "!rm -rf /content/spark-3.2.1-bin-hadoop2.7 | true\n",
        "!wget -q https://archive.apache.org/dist/spark/spark-3.2.1/spark-3.2.1-bin-hadoop2.7.tgz\n",
        "!tar xf spark-3.2.1-bin-hadoop2.7.tgz\n",
        "!mkdir -p /content\n",
        "!mv spark-3.2.1-bin-hadoop2.7 /content\n",
        "\n",
        "!pip install -q findspark"
      ]
    },
    {
      "cell_type": "code",
      "execution_count": 84,
      "metadata": {
        "id": "4oTFM5YtJvv7",
        "outputId": "5a303aca-5543-4b00-c240-f376f91efb3b",
        "colab": {
          "base_uri": "https://localhost:8080/",
          "height": 35
        }
      },
      "outputs": [
        {
          "output_type": "execute_result",
          "data": {
            "text/plain": [
              "'/content/spark-3.2.1-bin-hadoop2.7'"
            ],
            "application/vnd.google.colaboratory.intrinsic+json": {
              "type": "string"
            }
          },
          "metadata": {},
          "execution_count": 84
        }
      ],
      "source": [
        "import os\n",
        "os.environ[\"JAVA_HOME\"] = \"/usr/lib/jvm/java-8-openjdk-amd64\"\n",
        "os.environ[\"SPARK_HOME\"] = \"/content/spark-3.2.1-bin-hadoop2.7\"\n",
        "import findspark\n",
        "findspark.init()\n",
        "findspark.find() # Should return '/content/spark-3.2.1-bin-hadoop2.7'"
      ]
    },
    {
      "cell_type": "code",
      "execution_count": 85,
      "metadata": {
        "id": "KJlzVAmbJ9vL",
        "outputId": "a5aa4367-5dd9-4c6b-ecae-84271fc84276",
        "colab": {
          "base_uri": "https://localhost:8080/",
          "height": 197
        }
      },
      "outputs": [
        {
          "output_type": "execute_result",
          "data": {
            "text/plain": [
              "<SparkContext master=local appName=Colab>"
            ],
            "text/html": [
              "\n",
              "        <div>\n",
              "            <p><b>SparkContext</b></p>\n",
              "\n",
              "            <p><a href=\"http://00d9d1e7483b:4040\">Spark UI</a></p>\n",
              "\n",
              "            <dl>\n",
              "              <dt>Version</dt>\n",
              "                <dd><code>v3.2.1</code></dd>\n",
              "              <dt>Master</dt>\n",
              "                <dd><code>local</code></dd>\n",
              "              <dt>AppName</dt>\n",
              "                <dd><code>Colab</code></dd>\n",
              "            </dl>\n",
              "        </div>\n",
              "        "
            ]
          },
          "metadata": {},
          "execution_count": 85
        }
      ],
      "source": [
        "from pyspark.sql import SparkSession\n",
        "\n",
        "spark = SparkSession.builder\\\n",
        "        .master(\"local\")\\\n",
        "        .appName(\"Colab\")\\\n",
        "        .getOrCreate()\n",
        "sc = spark.sparkContext\n",
        "\n",
        "sc"
      ]
    },
    {
      "cell_type": "markdown",
      "metadata": {
        "id": "oBd7XwkFBDEF"
      },
      "source": [
        "# Spark: working with RDDs\n",
        "\n",
        "Check the documentation: [here](https://spark.apache.org/docs/latest/api/python/reference/pyspark.html#rdd-apis)."
      ]
    },
    {
      "cell_type": "markdown",
      "metadata": {
        "id": "jcoFwGvm4gj6"
      },
      "source": [
        "## Basics"
      ]
    },
    {
      "cell_type": "code",
      "execution_count": 86,
      "metadata": {
        "autoscroll": "auto",
        "id": "vlFswJyWytKG"
      },
      "outputs": [],
      "source": [
        "# let's create a simple example\n",
        "riddle1 = \"over the bench the sheep lives under the bench the sheep dies\"\n",
        "riddle2 = [\"over the bench the sheep lives\", \"under the bench the sheep dies\"]"
      ]
    },
    {
      "cell_type": "code",
      "execution_count": 87,
      "metadata": {
        "autoscroll": "auto",
        "id": "WHywj4BmytKH",
        "outputId": "73d2a215-3ebd-4160-a7e7-5ce1614ab22d",
        "colab": {
          "base_uri": "https://localhost:8080/"
        }
      },
      "outputs": [
        {
          "output_type": "stream",
          "name": "stdout",
          "text": [
            "ParallelCollectionRDD[186] at readRDDFromFile at PythonRDD.scala:274\n"
          ]
        }
      ],
      "source": [
        "# create an RDD from the `riddle` string\n",
        "rdd1 = sc.parallelize(riddle1.split(\" \"))\n",
        "# each tuple of the RDD corresponds to a single word\n",
        "\n",
        "print(rdd1)\n",
        "# why is there no result returned?"
      ]
    },
    {
      "cell_type": "code",
      "execution_count": 88,
      "metadata": {
        "autoscroll": "auto",
        "id": "3oYjBLnOytKI",
        "outputId": "3e66f0d8-45ed-49a2-a2e1-1078956442c8",
        "colab": {
          "base_uri": "https://localhost:8080/"
        }
      },
      "outputs": [
        {
          "output_type": "stream",
          "name": "stdout",
          "text": [
            "['over', 'the', 'bench', 'the', 'sheep', 'lives', 'under', 'the', 'bench', 'the', 'sheep', 'dies']\n"
          ]
        }
      ],
      "source": [
        "# compute the RDD\n",
        "print(rdd1.collect())"
      ]
    },
    {
      "cell_type": "code",
      "execution_count": 89,
      "metadata": {
        "id": "exzQLruZ9qgg",
        "outputId": "d15c9fb6-bdbb-4b1c-8e33-2bfd0788dd26",
        "colab": {
          "base_uri": "https://localhost:8080/"
        }
      },
      "outputs": [
        {
          "output_type": "stream",
          "name": "stdout",
          "text": [
            "['over the bench the sheep lives', 'under the bench the sheep dies']\n"
          ]
        }
      ],
      "source": [
        "rdd2 = sc.parallelize(riddle2)\n",
        "print(rdd2.collect())"
      ]
    },
    {
      "cell_type": "markdown",
      "metadata": {
        "id": "iyH7halU9HiB"
      },
      "source": [
        "## Transformations"
      ]
    },
    {
      "cell_type": "code",
      "execution_count": 90,
      "metadata": {
        "id": "sndBHyEF86T5",
        "outputId": "83b2c4f3-5812-4b11-e97a-590f17ce96d2",
        "colab": {
          "base_uri": "https://localhost:8080/"
        }
      },
      "outputs": [
        {
          "output_type": "execute_result",
          "data": {
            "text/plain": [
              "['OVER',\n",
              " 'THE',\n",
              " 'BENCH',\n",
              " 'THE',\n",
              " 'SHEEP',\n",
              " 'LIVES',\n",
              " 'UNDER',\n",
              " 'THE',\n",
              " 'BENCH',\n",
              " 'THE',\n",
              " 'SHEEP',\n",
              " 'DIES']"
            ]
          },
          "metadata": {},
          "execution_count": 90
        }
      ],
      "source": [
        "# map: returns a new RDD by applying a function to each of the elements in the original RDD\n",
        "rdd1.map(lambda s: s.upper()).collect()"
      ]
    },
    {
      "cell_type": "code",
      "execution_count": 91,
      "metadata": {
        "id": "9MlPRBd_-Cl1",
        "outputId": "5b78990f-80e3-4975-817e-5914b17ce91b",
        "colab": {
          "base_uri": "https://localhost:8080/"
        }
      },
      "outputs": [
        {
          "output_type": "execute_result",
          "data": {
            "text/plain": [
              "['over',\n",
              " 'the',\n",
              " 'bench',\n",
              " 'the',\n",
              " 'sheep',\n",
              " 'lives',\n",
              " 'under',\n",
              " 'the',\n",
              " 'bench',\n",
              " 'the',\n",
              " 'sheep',\n",
              " 'dies']"
            ]
          },
          "metadata": {},
          "execution_count": 91
        }
      ],
      "source": [
        "# flatMap: returns a new RDD by applying the function to every element of the parent RDD and then flattening the result\n",
        "rdd2.flatMap(lambda s: s.split(\" \")).collect()"
      ]
    },
    {
      "cell_type": "code",
      "execution_count": 92,
      "metadata": {
        "id": "UlT_jxmH9Myx",
        "outputId": "dd981970-789a-4617-f131-bd97c39ab56a",
        "colab": {
          "base_uri": "https://localhost:8080/"
        }
      },
      "outputs": [
        {
          "output_type": "execute_result",
          "data": {
            "text/plain": [
              "['under']"
            ]
          },
          "metadata": {},
          "execution_count": 92
        }
      ],
      "source": [
        "# filter: returns a new RDD containing only the elements in the parent RDD that satisfy the function inside filter\n",
        "rdd1.filter(lambda s: s.startswith(\"u\")).collect()"
      ]
    },
    {
      "cell_type": "code",
      "execution_count": 93,
      "metadata": {
        "id": "QxxJdRxW-Xcj",
        "outputId": "71f3c37d-bb71-476d-8034-7dad15634df2",
        "colab": {
          "base_uri": "https://localhost:8080/"
        }
      },
      "outputs": [
        {
          "output_type": "execute_result",
          "data": {
            "text/plain": [
              "['over', 'the', 'bench', 'sheep', 'lives', 'under', 'dies']"
            ]
          },
          "metadata": {},
          "execution_count": 93
        }
      ],
      "source": [
        "# distinct: returns a new RDD that contains only the distinct elements in the parent RDD\n",
        "rdd1.distinct().collect()"
      ]
    },
    {
      "cell_type": "code",
      "execution_count": 94,
      "metadata": {
        "id": "dBAh2Gs8-fdM",
        "outputId": "e3375535-7bb0-4464-892d-904be000330a",
        "colab": {
          "base_uri": "https://localhost:8080/"
        }
      },
      "outputs": [
        {
          "output_type": "execute_result",
          "data": {
            "text/plain": [
              "[('over', [1]),\n",
              " ('the', [1, 1, 1, 1]),\n",
              " ('bench', [1, 1]),\n",
              " ('sheep', [1, 1]),\n",
              " ('lives', [1]),\n",
              " ('under', [1]),\n",
              " ('dies', [1])]"
            ]
          },
          "metadata": {},
          "execution_count": 94
        }
      ],
      "source": [
        "# groupByKey: groups the values for each key in the (key, value) pairs of the RDD into a single sequence\n",
        "rdd1.map(lambda s: (s,1)).groupByKey().mapValues(list).collect()\n",
        "\n",
        "# (first map converts to a key-value RDD)\n",
        "# (mapValues is a map that operates only on the values - in this case, used to convert from ResultIterable to List for printing reasons)"
      ]
    },
    {
      "cell_type": "code",
      "execution_count": 95,
      "metadata": {
        "id": "cH1dxiGl_cS5",
        "outputId": "9ede6ea3-2c59-41f7-d9c3-46102954e3da",
        "colab": {
          "base_uri": "https://localhost:8080/"
        }
      },
      "outputs": [
        {
          "output_type": "execute_result",
          "data": {
            "text/plain": [
              "[('over', 1),\n",
              " ('the', 4),\n",
              " ('bench', 2),\n",
              " ('sheep', 2),\n",
              " ('lives', 1),\n",
              " ('under', 1),\n",
              " ('dies', 1)]"
            ]
          },
          "metadata": {},
          "execution_count": 95
        }
      ],
      "source": [
        "# reduceByKey: when called on a key-value RDD, returns a new dataset in which the values for each of its key are aggregated\n",
        "rdd1.map(lambda s: (s,1)).reduceByKey(lambda x, y: x + y).collect()"
      ]
    },
    {
      "cell_type": "code",
      "execution_count": 96,
      "metadata": {
        "id": "-XJWbbv6_0Tw",
        "outputId": "cbb4b13e-8a80-4513-b8ad-ab34a47650a1",
        "colab": {
          "base_uri": "https://localhost:8080/"
        }
      },
      "outputs": [
        {
          "output_type": "execute_result",
          "data": {
            "text/plain": [
              "[('bench', 1),\n",
              " ('bench', 1),\n",
              " ('dies', 1),\n",
              " ('lives', 1),\n",
              " ('over', 1),\n",
              " ('sheep', 1),\n",
              " ('sheep', 1),\n",
              " ('the', 1),\n",
              " ('the', 1),\n",
              " ('the', 1),\n",
              " ('the', 1),\n",
              " ('under', 1)]"
            ]
          },
          "metadata": {},
          "execution_count": 96
        }
      ],
      "source": [
        "# sortByKey: returns a new RDD with (key,value) pairs of parent RDD in sorted order according to the key\n",
        "rdd1.map(lambda s: (s,1)).sortByKey().collect()"
      ]
    },
    {
      "cell_type": "code",
      "execution_count": 97,
      "metadata": {
        "id": "SGIn90U0Md8j",
        "outputId": "ffb17e64-c69e-4ee3-f69e-32afb5b88e1f",
        "colab": {
          "base_uri": "https://localhost:8080/"
        }
      },
      "outputs": [
        {
          "output_type": "execute_result",
          "data": {
            "text/plain": [
              "[(2, ('A2', 'B2')), (1, ('A1', 'B1'))]"
            ]
          },
          "metadata": {},
          "execution_count": 97
        }
      ],
      "source": [
        "# join: starting from two RDD with (key, value1) and (key, value2) pairs, returns a new RDD with (key, (value1, value2)) pairs\n",
        "rddA = sc.parallelize([(1, \"A1\"), (2, \"A2\"), (3, \"A3\")])\n",
        "rddB = sc.parallelize([(1, \"B1\"), (2, \"B2\"), (4, \"B4\")])\n",
        "rddA.join(rddB).collect()"
      ]
    },
    {
      "cell_type": "markdown",
      "metadata": {
        "id": "gKJ_7MCsAIy_"
      },
      "source": [
        "## Actions"
      ]
    },
    {
      "cell_type": "code",
      "execution_count": 98,
      "metadata": {
        "id": "XQXX-d20_vWo",
        "outputId": "6a797155-ab6c-4911-aa9b-f54a1e92084e",
        "colab": {
          "base_uri": "https://localhost:8080/"
        }
      },
      "outputs": [
        {
          "output_type": "execute_result",
          "data": {
            "text/plain": [
              "['over',\n",
              " 'the',\n",
              " 'bench',\n",
              " 'the',\n",
              " 'sheep',\n",
              " 'lives',\n",
              " 'under',\n",
              " 'the',\n",
              " 'bench',\n",
              " 'the',\n",
              " 'sheep',\n",
              " 'dies']"
            ]
          },
          "metadata": {},
          "execution_count": 98
        }
      ],
      "source": [
        "# collect: returns a list that contains all the elements of the RDD\n",
        "rdd1.collect()"
      ]
    },
    {
      "cell_type": "code",
      "execution_count": 99,
      "metadata": {
        "id": "FXuL9K2qATfL",
        "outputId": "b35328ba-92a9-48ce-a0c0-7bc81031ea5a",
        "colab": {
          "base_uri": "https://localhost:8080/"
        }
      },
      "outputs": [
        {
          "output_type": "execute_result",
          "data": {
            "text/plain": [
              "12"
            ]
          },
          "metadata": {},
          "execution_count": 99
        }
      ],
      "source": [
        "# count: returns the number of elements in the RDD\n",
        "rdd1.count()"
      ]
    },
    {
      "cell_type": "code",
      "execution_count": 100,
      "metadata": {
        "id": "YI10eDDnAWe7",
        "outputId": "b7ef2af6-520c-45c6-92f2-b8598ef71578",
        "colab": {
          "base_uri": "https://localhost:8080/"
        }
      },
      "outputs": [
        {
          "output_type": "execute_result",
          "data": {
            "text/plain": [
              "120"
            ]
          },
          "metadata": {},
          "execution_count": 100
        }
      ],
      "source": [
        "# reduce: aggregates the elements of the RDD using a function that takes two elements of the RDD as input and gives the result\n",
        "sc.parallelize([1, 2, 3, 4, 5]).reduce( lambda x, y: x * y)"
      ]
    },
    {
      "cell_type": "code",
      "execution_count": 101,
      "metadata": {
        "id": "CgN5qtwBAvIv",
        "outputId": "d7db99c6-dced-4f24-e63c-32e67ea04f7b",
        "colab": {
          "base_uri": "https://localhost:8080/"
        }
      },
      "outputs": [
        {
          "output_type": "execute_result",
          "data": {
            "text/plain": [
              "['over', 'the']"
            ]
          },
          "metadata": {},
          "execution_count": 101
        }
      ],
      "source": [
        "# take: returns the first n elements of RDD in the same order\n",
        "rdd1.take(2)"
      ]
    },
    {
      "cell_type": "code",
      "execution_count": 102,
      "metadata": {
        "id": "yS8SuYRQvV6F"
      },
      "outputs": [],
      "source": [
        "# saveAsTextFile: saves the content of the RDD to a file\n",
        "!rm -rf /content/rdd1 | true\n",
        "rdd1.saveAsTextFile(\"rdd1\")"
      ]
    },
    {
      "cell_type": "markdown",
      "metadata": {
        "id": "gmosJNIOA5S_"
      },
      "source": [
        "## Examples"
      ]
    },
    {
      "cell_type": "code",
      "execution_count": 103,
      "metadata": {
        "autoscroll": "auto",
        "id": "mGRkO7_oytKK",
        "outputId": "c6564ae6-d072-4c98-eeed-94f8a60fc6bb",
        "colab": {
          "base_uri": "https://localhost:8080/"
        }
      },
      "outputs": [
        {
          "output_type": "execute_result",
          "data": {
            "text/plain": [
              "['U', 'N', 'D', 'E', 'R']"
            ]
          },
          "metadata": {},
          "execution_count": 103
        }
      ],
      "source": [
        "# Flatten the words beginning with the letter C\n",
        "# - map: transform each string in upper case (remember: map returns a new RDD with the same cardinality)\n",
        "# - filter: keep only the strings beginning with \"C\" (remember: filter returns a new RDD with the same or smaller cardinality)\n",
        "# - flatMap: explode each string into its characters (remember: flatMap returns a new RDD with the any cardinality)\n",
        "rdd1\\\n",
        "    .map(lambda s: s.upper())\\\n",
        "    .filter(lambda s: s.startswith(\"U\"))\\\n",
        "    .flatMap(lambda s: list(s))\\\n",
        "    .collect()"
      ]
    },
    {
      "cell_type": "code",
      "execution_count": 104,
      "metadata": {
        "autoscroll": "auto",
        "id": "Wrr37cZ2ytKL",
        "outputId": "64c143f2-c7ca-4c79-9590-8a3dee251dee",
        "colab": {
          "base_uri": "https://localhost:8080/"
        }
      },
      "outputs": [
        {
          "output_type": "execute_result",
          "data": {
            "text/plain": [
              "[('the', 4),\n",
              " ('bench', 2),\n",
              " ('sheep', 2),\n",
              " ('over', 1),\n",
              " ('lives', 1),\n",
              " ('under', 1),\n",
              " ('dies', 1)]"
            ]
          },
          "metadata": {},
          "execution_count": 104
        }
      ],
      "source": [
        "# A simple word count\n",
        "# - map: map each word to a tuple (word, 1); each tuple represent the count associate with a word\n",
        "# - reduceByKey: group all the tuples with the same word and sum the counts\n",
        "# - sortBy: sort tuples by count\n",
        "rdd1\\\n",
        "    .map(lambda s: (s, 1))\\\n",
        "    .reduceByKey(lambda a, b: a + b)\\\n",
        "    .sortBy(lambda x: x[1], False)\\\n",
        "    .collect()"
      ]
    },
    {
      "cell_type": "code",
      "execution_count": 105,
      "metadata": {
        "id": "zxBoMsnTCATh",
        "outputId": "51520eef-c079-4f6d-f285-e365a057926e",
        "colab": {
          "base_uri": "https://localhost:8080/"
        }
      },
      "outputs": [
        {
          "output_type": "execute_result",
          "data": {
            "text/plain": [
              "[('b', 5.0),\n",
              " ('s', 5.0),\n",
              " ('l', 5.0),\n",
              " ('u', 5.0),\n",
              " ('o', 4.0),\n",
              " ('d', 4.0),\n",
              " ('t', 3.0)]"
            ]
          },
          "metadata": {},
          "execution_count": 105
        }
      ],
      "source": [
        "# Compute average length of words depending on their initial letter\n",
        "# map: map each word to a key-value tuple (word, (wordLength, 1)), where the value is an object composed by two value: the length of the word and a 1\n",
        "# reduceByKey: group all the tuples with the same word to 1) sum the lengths, and 2) sum the counts\n",
        "# mapValues: divides the sums by the counts to compute the averages\n",
        "# sortBy: sort tuples by averages\n",
        "rdd1\\\n",
        "  .map(lambda s: (s[0], (len(s),1)))\\\n",
        "  .reduceByKey(lambda a, b: (a[0] + b[0], a[1] + b[1]))\\\n",
        "  .mapValues(lambda x: x[0]/x[1])\\\n",
        "  .sortBy(lambda x: x[1], False)\\\n",
        "  .collect()"
      ]
    },
    {
      "cell_type": "markdown",
      "metadata": {
        "id": "sCXrRXAAEtet"
      },
      "source": [
        "# Spark: working with DataFrames\n",
        "\n",
        "Check the documentation: [here](https://spark.apache.org/docs/3.2.1/api/python/reference/api/pyspark.sql.DataFrame.html).\n",
        "\n",
        "What is different from Pandas' DataFrames?\n",
        "\n",
        "- Spark supports parallelization (Pandas doesn't), thus it's more suitable for big data processing\n",
        "- Spark follows Lazy Execution, which means that a task is not executed until an action is performed (Pandas follows Eager Execution, which means task is executed immediately)\n",
        "- Spark has immutability (Pandas has mutability)\n",
        "- The data structure is similar, the APIs are different"
      ]
    },
    {
      "cell_type": "code",
      "execution_count": 106,
      "metadata": {
        "id": "IGChYOQWRZku",
        "outputId": "2fd103b1-5500-47ec-dcd4-48ec33e369c8",
        "colab": {
          "base_uri": "https://localhost:8080/"
        }
      },
      "outputs": [
        {
          "output_type": "stream",
          "name": "stdout",
          "text": [
            "--2023-10-12 20:52:27--  https://raw.githubusercontent.com/w4bo/handsOnDataPipelines/main/materials/datasets/housing.csv\n",
            "Resolving raw.githubusercontent.com (raw.githubusercontent.com)... 185.199.110.133, 185.199.111.133, 185.199.109.133, ...\n",
            "Connecting to raw.githubusercontent.com (raw.githubusercontent.com)|185.199.110.133|:443... connected.\n",
            "HTTP request sent, awaiting response... 200 OK\n",
            "Length: 1423529 (1.4M) [text/plain]\n",
            "Saving to: ‘housing.csv.1’\n",
            "\n",
            "\rhousing.csv.1         0%[                    ]       0  --.-KB/s               \rhousing.csv.1       100%[===================>]   1.36M  --.-KB/s    in 0.08s   \n",
            "\n",
            "2023-10-12 20:52:27 (18.0 MB/s) - ‘housing.csv.1’ saved [1423529/1423529]\n",
            "\n",
            "+---------+--------+------------------+-----------+--------------+----------+----------+-------------+------------------+---------------+\n",
            "|longitude|latitude|housing_median_age|total_rooms|total_bedrooms|population|households|median_income|median_house_value|ocean_proximity|\n",
            "+---------+--------+------------------+-----------+--------------+----------+----------+-------------+------------------+---------------+\n",
            "|  -122.23|   37.88|              41.0|      880.0|         129.0|     322.0|     126.0|       8.3252|          452600.0|       NEAR BAY|\n",
            "|  -122.22|   37.86|              21.0|     7099.0|        1106.0|    2401.0|    1138.0|       8.3014|          358500.0|       NEAR BAY|\n",
            "|  -122.24|   37.85|              52.0|     1467.0|         190.0|     496.0|     177.0|       7.2574|          352100.0|       NEAR BAY|\n",
            "|  -122.25|   37.85|              52.0|     1274.0|         235.0|     558.0|     219.0|       5.6431|          341300.0|       NEAR BAY|\n",
            "|  -122.25|   37.85|              52.0|     1627.0|         280.0|     565.0|     259.0|       3.8462|          342200.0|       NEAR BAY|\n",
            "|  -122.25|   37.85|              52.0|      919.0|         213.0|     413.0|     193.0|       4.0368|          269700.0|       NEAR BAY|\n",
            "|  -122.25|   37.84|              52.0|     2535.0|         489.0|    1094.0|     514.0|       3.6591|          299200.0|       NEAR BAY|\n",
            "|  -122.25|   37.84|              52.0|     3104.0|         687.0|    1157.0|     647.0|         3.12|          241400.0|       NEAR BAY|\n",
            "|  -122.26|   37.84|              42.0|     2555.0|         665.0|    1206.0|     595.0|       2.0804|          226700.0|       NEAR BAY|\n",
            "|  -122.25|   37.84|              52.0|     3549.0|         707.0|    1551.0|     714.0|       3.6912|          261100.0|       NEAR BAY|\n",
            "|  -122.26|   37.85|              52.0|     2202.0|         434.0|     910.0|     402.0|       3.2031|          281500.0|       NEAR BAY|\n",
            "|  -122.26|   37.85|              52.0|     3503.0|         752.0|    1504.0|     734.0|       3.2705|          241800.0|       NEAR BAY|\n",
            "|  -122.26|   37.85|              52.0|     2491.0|         474.0|    1098.0|     468.0|        3.075|          213500.0|       NEAR BAY|\n",
            "|  -122.26|   37.84|              52.0|      696.0|         191.0|     345.0|     174.0|       2.6736|          191300.0|       NEAR BAY|\n",
            "|  -122.26|   37.85|              52.0|     2643.0|         626.0|    1212.0|     620.0|       1.9167|          159200.0|       NEAR BAY|\n",
            "|  -122.26|   37.85|              50.0|     1120.0|         283.0|     697.0|     264.0|        2.125|          140000.0|       NEAR BAY|\n",
            "|  -122.27|   37.85|              52.0|     1966.0|         347.0|     793.0|     331.0|        2.775|          152500.0|       NEAR BAY|\n",
            "|  -122.27|   37.85|              52.0|     1228.0|         293.0|     648.0|     303.0|       2.1202|          155500.0|       NEAR BAY|\n",
            "|  -122.26|   37.84|              50.0|     2239.0|         455.0|     990.0|     419.0|       1.9911|          158700.0|       NEAR BAY|\n",
            "|  -122.27|   37.84|              52.0|     1503.0|         298.0|     690.0|     275.0|       2.6033|          162900.0|       NEAR BAY|\n",
            "+---------+--------+------------------+-----------+--------------+----------+----------+-------------+------------------+---------------+\n",
            "only showing top 20 rows\n",
            "\n"
          ]
        }
      ],
      "source": [
        "!wget https://raw.githubusercontent.com/w4bo/handsOnDataPipelines/main/materials/datasets/housing.csv\n",
        "df = spark.read.option(\"delimiter\", \",\").option(\"header\", \"true\").csv(\"housing.csv\")\n",
        "df.show()"
      ]
    },
    {
      "cell_type": "code",
      "execution_count": 107,
      "metadata": {
        "id": "_aSykf1wV8dB",
        "outputId": "1a9d8cee-9fe4-4e96-8ab8-760cb216911b",
        "colab": {
          "base_uri": "https://localhost:8080/"
        }
      },
      "outputs": [
        {
          "output_type": "stream",
          "name": "stdout",
          "text": [
            "      longitude latitude housing_median_age total_rooms total_bedrooms  \\\n",
            "0       -122.23    37.88               41.0       880.0          129.0   \n",
            "1       -122.22    37.86               21.0      7099.0         1106.0   \n",
            "2       -122.24    37.85               52.0      1467.0          190.0   \n",
            "3       -122.25    37.85               52.0      1274.0          235.0   \n",
            "4       -122.25    37.85               52.0      1627.0          280.0   \n",
            "...         ...      ...                ...         ...            ...   \n",
            "20635   -121.09    39.48               25.0      1665.0          374.0   \n",
            "20636   -121.21    39.49               18.0       697.0          150.0   \n",
            "20637   -121.22    39.43               17.0      2254.0          485.0   \n",
            "20638   -121.32    39.43               18.0      1860.0          409.0   \n",
            "20639   -121.24    39.37               16.0      2785.0          616.0   \n",
            "\n",
            "      population households median_income median_house_value ocean_proximity  \n",
            "0          322.0      126.0        8.3252           452600.0        NEAR BAY  \n",
            "1         2401.0     1138.0        8.3014           358500.0        NEAR BAY  \n",
            "2          496.0      177.0        7.2574           352100.0        NEAR BAY  \n",
            "3          558.0      219.0        5.6431           341300.0        NEAR BAY  \n",
            "4          565.0      259.0        3.8462           342200.0        NEAR BAY  \n",
            "...          ...        ...           ...                ...             ...  \n",
            "20635      845.0      330.0        1.5603            78100.0          INLAND  \n",
            "20636      356.0      114.0        2.5568            77100.0          INLAND  \n",
            "20637     1007.0      433.0           1.7            92300.0          INLAND  \n",
            "20638      741.0      349.0        1.8672            84700.0          INLAND  \n",
            "20639     1387.0      530.0        2.3886            89400.0          INLAND  \n",
            "\n",
            "[20640 rows x 10 columns]\n"
          ]
        }
      ],
      "source": [
        "# Switching from Spark to Pandas\n",
        "pandasDF = df.toPandas()\n",
        "print(pandasDF)"
      ]
    },
    {
      "cell_type": "code",
      "execution_count": 108,
      "metadata": {
        "id": "cFUtMUaUWTY5",
        "outputId": "a8158bc3-d1a9-412f-8891-916e10cb8e36",
        "colab": {
          "base_uri": "https://localhost:8080/"
        }
      },
      "outputs": [
        {
          "output_type": "stream",
          "name": "stderr",
          "text": [
            "/content/spark-3.2.1-bin-hadoop2.7/python/pyspark/sql/pandas/conversion.py:371: FutureWarning: iteritems is deprecated and will be removed in a future version. Use .items instead.\n",
            "  for column, series in pdf.iteritems():\n"
          ]
        },
        {
          "output_type": "stream",
          "name": "stdout",
          "text": [
            "+---------+--------+------------------+-----------+--------------+----------+----------+-------------+------------------+---------------+\n",
            "|longitude|latitude|housing_median_age|total_rooms|total_bedrooms|population|households|median_income|median_house_value|ocean_proximity|\n",
            "+---------+--------+------------------+-----------+--------------+----------+----------+-------------+------------------+---------------+\n",
            "|  -122.23|   37.88|              41.0|      880.0|         129.0|     322.0|     126.0|       8.3252|          452600.0|       NEAR BAY|\n",
            "|  -122.22|   37.86|              21.0|     7099.0|        1106.0|    2401.0|    1138.0|       8.3014|          358500.0|       NEAR BAY|\n",
            "|  -122.24|   37.85|              52.0|     1467.0|         190.0|     496.0|     177.0|       7.2574|          352100.0|       NEAR BAY|\n",
            "|  -122.25|   37.85|              52.0|     1274.0|         235.0|     558.0|     219.0|       5.6431|          341300.0|       NEAR BAY|\n",
            "|  -122.25|   37.85|              52.0|     1627.0|         280.0|     565.0|     259.0|       3.8462|          342200.0|       NEAR BAY|\n",
            "|  -122.25|   37.85|              52.0|      919.0|         213.0|     413.0|     193.0|       4.0368|          269700.0|       NEAR BAY|\n",
            "|  -122.25|   37.84|              52.0|     2535.0|         489.0|    1094.0|     514.0|       3.6591|          299200.0|       NEAR BAY|\n",
            "|  -122.25|   37.84|              52.0|     3104.0|         687.0|    1157.0|     647.0|         3.12|          241400.0|       NEAR BAY|\n",
            "|  -122.26|   37.84|              42.0|     2555.0|         665.0|    1206.0|     595.0|       2.0804|          226700.0|       NEAR BAY|\n",
            "|  -122.25|   37.84|              52.0|     3549.0|         707.0|    1551.0|     714.0|       3.6912|          261100.0|       NEAR BAY|\n",
            "|  -122.26|   37.85|              52.0|     2202.0|         434.0|     910.0|     402.0|       3.2031|          281500.0|       NEAR BAY|\n",
            "|  -122.26|   37.85|              52.0|     3503.0|         752.0|    1504.0|     734.0|       3.2705|          241800.0|       NEAR BAY|\n",
            "|  -122.26|   37.85|              52.0|     2491.0|         474.0|    1098.0|     468.0|        3.075|          213500.0|       NEAR BAY|\n",
            "|  -122.26|   37.84|              52.0|      696.0|         191.0|     345.0|     174.0|       2.6736|          191300.0|       NEAR BAY|\n",
            "|  -122.26|   37.85|              52.0|     2643.0|         626.0|    1212.0|     620.0|       1.9167|          159200.0|       NEAR BAY|\n",
            "|  -122.26|   37.85|              50.0|     1120.0|         283.0|     697.0|     264.0|        2.125|          140000.0|       NEAR BAY|\n",
            "|  -122.27|   37.85|              52.0|     1966.0|         347.0|     793.0|     331.0|        2.775|          152500.0|       NEAR BAY|\n",
            "|  -122.27|   37.85|              52.0|     1228.0|         293.0|     648.0|     303.0|       2.1202|          155500.0|       NEAR BAY|\n",
            "|  -122.26|   37.84|              50.0|     2239.0|         455.0|     990.0|     419.0|       1.9911|          158700.0|       NEAR BAY|\n",
            "|  -122.27|   37.84|              52.0|     1503.0|         298.0|     690.0|     275.0|       2.6033|          162900.0|       NEAR BAY|\n",
            "+---------+--------+------------------+-----------+--------------+----------+----------+-------------+------------------+---------------+\n",
            "only showing top 20 rows\n",
            "\n"
          ]
        }
      ],
      "source": [
        "# Switching from Pandas to Spark\n",
        "df = spark.createDataFrame(pandasDF)\n",
        "df.show()"
      ]
    },
    {
      "cell_type": "code",
      "execution_count": 109,
      "metadata": {
        "id": "eFAs2zBHPLTA",
        "outputId": "ae4531e4-e9c6-4436-f113-35afe6b80286",
        "colab": {
          "base_uri": "https://localhost:8080/"
        }
      },
      "outputs": [
        {
          "output_type": "stream",
          "name": "stdout",
          "text": [
            "+----------+------------------+\n",
            "|population|median_house_value|\n",
            "+----------+------------------+\n",
            "|     322.0|          452600.0|\n",
            "|    2401.0|          358500.0|\n",
            "|     496.0|          352100.0|\n",
            "|     558.0|          341300.0|\n",
            "|     565.0|          342200.0|\n",
            "|     413.0|          269700.0|\n",
            "|    1094.0|          299200.0|\n",
            "|    1157.0|          241400.0|\n",
            "|    1206.0|          226700.0|\n",
            "|    1551.0|          261100.0|\n",
            "|     910.0|          281500.0|\n",
            "|    1504.0|          241800.0|\n",
            "|    1098.0|          213500.0|\n",
            "|     345.0|          191300.0|\n",
            "|    1212.0|          159200.0|\n",
            "|     697.0|          140000.0|\n",
            "|     793.0|          152500.0|\n",
            "|     648.0|          155500.0|\n",
            "|     990.0|          158700.0|\n",
            "|     690.0|          162900.0|\n",
            "+----------+------------------+\n",
            "only showing top 20 rows\n",
            "\n"
          ]
        }
      ],
      "source": [
        "# select: returns a new DataFrame with only selected columns (similar to a map on RDDs)\n",
        "df.select('population','median_house_value').show()"
      ]
    },
    {
      "cell_type": "code",
      "execution_count": 110,
      "metadata": {
        "id": "FmClDtFaQqO7",
        "outputId": "bc28ae3c-3eda-4062-e474-6ad3b43556db",
        "colab": {
          "base_uri": "https://localhost:8080/"
        }
      },
      "outputs": [
        {
          "output_type": "stream",
          "name": "stdout",
          "text": [
            "+----------+---------------------------+\n",
            "|population|(median_house_value / 1000)|\n",
            "+----------+---------------------------+\n",
            "|     322.0|                      452.6|\n",
            "|    2401.0|                      358.5|\n",
            "|     496.0|                      352.1|\n",
            "|     558.0|                      341.3|\n",
            "|     565.0|                      342.2|\n",
            "|     413.0|                      269.7|\n",
            "|    1094.0|                      299.2|\n",
            "|    1157.0|                      241.4|\n",
            "|    1206.0|                      226.7|\n",
            "|    1551.0|                      261.1|\n",
            "|     910.0|                      281.5|\n",
            "|    1504.0|                      241.8|\n",
            "|    1098.0|                      213.5|\n",
            "|     345.0|                      191.3|\n",
            "|    1212.0|                      159.2|\n",
            "|     697.0|                      140.0|\n",
            "|     793.0|                      152.5|\n",
            "|     648.0|                      155.5|\n",
            "|     990.0|                      158.7|\n",
            "|     690.0|                      162.9|\n",
            "+----------+---------------------------+\n",
            "only showing top 20 rows\n",
            "\n"
          ]
        }
      ],
      "source": [
        "# select, similarly to a map, allows column values to be redefined\n",
        "df.select(df.population,df.median_house_value/1000).show()\n",
        "# put the operation within parenthesis and add .alias('median_house_value_in_K$')"
      ]
    },
    {
      "cell_type": "code",
      "execution_count": 111,
      "metadata": {
        "id": "4whu8BylWfAK",
        "outputId": "bd7abfcf-5f33-49b0-ef5c-155927aad9c4",
        "colab": {
          "base_uri": "https://localhost:8080/"
        }
      },
      "outputs": [
        {
          "output_type": "stream",
          "name": "stdout",
          "text": [
            "+---------+--------+------------------+-----------+--------------+----------+----------+-------------+------------------+---------------+------------------------+\n",
            "|longitude|latitude|housing_median_age|total_rooms|total_bedrooms|population|households|median_income|median_house_value|ocean_proximity|median_house_value_in_K$|\n",
            "+---------+--------+------------------+-----------+--------------+----------+----------+-------------+------------------+---------------+------------------------+\n",
            "|  -122.23|   37.88|              41.0|      880.0|         129.0|     322.0|     126.0|       8.3252|          452600.0|       NEAR BAY|                   452.6|\n",
            "|  -122.22|   37.86|              21.0|     7099.0|        1106.0|    2401.0|    1138.0|       8.3014|          358500.0|       NEAR BAY|                   358.5|\n",
            "|  -122.24|   37.85|              52.0|     1467.0|         190.0|     496.0|     177.0|       7.2574|          352100.0|       NEAR BAY|                   352.1|\n",
            "|  -122.25|   37.85|              52.0|     1274.0|         235.0|     558.0|     219.0|       5.6431|          341300.0|       NEAR BAY|                   341.3|\n",
            "|  -122.25|   37.85|              52.0|     1627.0|         280.0|     565.0|     259.0|       3.8462|          342200.0|       NEAR BAY|                   342.2|\n",
            "|  -122.25|   37.85|              52.0|      919.0|         213.0|     413.0|     193.0|       4.0368|          269700.0|       NEAR BAY|                   269.7|\n",
            "|  -122.25|   37.84|              52.0|     2535.0|         489.0|    1094.0|     514.0|       3.6591|          299200.0|       NEAR BAY|                   299.2|\n",
            "|  -122.25|   37.84|              52.0|     3104.0|         687.0|    1157.0|     647.0|         3.12|          241400.0|       NEAR BAY|                   241.4|\n",
            "|  -122.26|   37.84|              42.0|     2555.0|         665.0|    1206.0|     595.0|       2.0804|          226700.0|       NEAR BAY|                   226.7|\n",
            "|  -122.25|   37.84|              52.0|     3549.0|         707.0|    1551.0|     714.0|       3.6912|          261100.0|       NEAR BAY|                   261.1|\n",
            "|  -122.26|   37.85|              52.0|     2202.0|         434.0|     910.0|     402.0|       3.2031|          281500.0|       NEAR BAY|                   281.5|\n",
            "|  -122.26|   37.85|              52.0|     3503.0|         752.0|    1504.0|     734.0|       3.2705|          241800.0|       NEAR BAY|                   241.8|\n",
            "|  -122.26|   37.85|              52.0|     2491.0|         474.0|    1098.0|     468.0|        3.075|          213500.0|       NEAR BAY|                   213.5|\n",
            "|  -122.26|   37.84|              52.0|      696.0|         191.0|     345.0|     174.0|       2.6736|          191300.0|       NEAR BAY|                   191.3|\n",
            "|  -122.26|   37.85|              52.0|     2643.0|         626.0|    1212.0|     620.0|       1.9167|          159200.0|       NEAR BAY|                   159.2|\n",
            "|  -122.26|   37.85|              50.0|     1120.0|         283.0|     697.0|     264.0|        2.125|          140000.0|       NEAR BAY|                   140.0|\n",
            "|  -122.27|   37.85|              52.0|     1966.0|         347.0|     793.0|     331.0|        2.775|          152500.0|       NEAR BAY|                   152.5|\n",
            "|  -122.27|   37.85|              52.0|     1228.0|         293.0|     648.0|     303.0|       2.1202|          155500.0|       NEAR BAY|                   155.5|\n",
            "|  -122.26|   37.84|              50.0|     2239.0|         455.0|     990.0|     419.0|       1.9911|          158700.0|       NEAR BAY|                   158.7|\n",
            "|  -122.27|   37.84|              52.0|     1503.0|         298.0|     690.0|     275.0|       2.6033|          162900.0|       NEAR BAY|                   162.9|\n",
            "+---------+--------+------------------+-----------+--------------+----------+----------+-------------+------------------+---------------+------------------------+\n",
            "only showing top 20 rows\n",
            "\n"
          ]
        }
      ],
      "source": [
        "# withColumn: used to manipulate (rename, change the value, convert the datatype)\n",
        "# an existing column in a dataframe (or to create a new column) while keeping the rest intact\n",
        "df.withColumn('median_house_value_in_K$',df.median_house_value/1000).show()"
      ]
    },
    {
      "cell_type": "code",
      "execution_count": 112,
      "metadata": {
        "id": "9zrnJn3_Q0PD",
        "outputId": "3fbb8e5f-674e-47d4-bf73-ae50cbed3ef2",
        "colab": {
          "base_uri": "https://localhost:8080/"
        }
      },
      "outputs": [
        {
          "output_type": "stream",
          "name": "stdout",
          "text": [
            "+---------+--------+------------------+-----------+--------------+----------+----------+-------------+------------------+---------------+\n",
            "|longitude|latitude|housing_median_age|total_rooms|total_bedrooms|population|households|median_income|median_house_value|ocean_proximity|\n",
            "+---------+--------+------------------+-----------+--------------+----------+----------+-------------+------------------+---------------+\n",
            "|  -122.12|   37.88|              35.0|     2785.0|         362.0|    1001.0|     363.0|       8.0448|          433300.0|       NEAR BAY|\n",
            "|  -117.88|   34.14|              23.0|     2308.0|         322.0|    1001.0|     317.0|       7.5112|          355500.0|         INLAND|\n",
            "|  -116.68|   33.16|              26.0|     1820.0|         374.0|    1001.0|     324.0|       2.1797|          156300.0|         INLAND|\n",
            "|  -118.51|   34.27|              36.0|     2276.0|         429.0|    1001.0|     419.0|       4.1042|          252100.0|      <1H OCEAN|\n",
            "|  -122.23|   37.82|              52.0|     3242.0|         366.0|    1001.0|     352.0|      12.2138|          500001.0|       NEAR BAY|\n",
            "|  -117.08|   32.69|              36.0|     1571.0|         284.0|    1001.0|     268.0|       3.6875|          111400.0|     NEAR OCEAN|\n",
            "|  -120.43|   34.97|              28.0|     1433.0|         270.0|    1001.0|     278.0|       4.0125|          130100.0|      <1H OCEAN|\n",
            "|  -120.48|   34.65|              26.0|     1933.0|         316.0|    1001.0|     319.0|       4.4628|          134400.0|     NEAR OCEAN|\n",
            "|  -122.08|   37.36|              31.0|     2717.0|         376.0|    1001.0|     381.0|        9.281|          500001.0|       NEAR BAY|\n",
            "|  -121.74|   38.15|              22.0|     1910.0|         326.0|    1001.0|     345.0|       4.8173|          115800.0|         INLAND|\n",
            "|  -119.17|   34.25|              15.0|     1329.0|         282.0|    1001.0|     284.0|         3.65|          189300.0|     NEAR OCEAN|\n",
            "|  -117.93|   33.88|              52.0|     2157.0|         362.0|    1001.0|     373.0|       5.1237|          240000.0|      <1H OCEAN|\n",
            "|  -117.33|   33.87|              14.0|     2300.0|         335.0|    1001.0|     311.0|       5.1045|          161300.0|         INLAND|\n",
            "|  -122.03|   37.62|              35.0|     2072.0|         352.0|    1001.0|     350.0|       4.7109|          198700.0|       NEAR BAY|\n",
            "|  -117.19|   32.84|              35.0|     2263.0|         427.0|    1001.0|     408.0|        3.875|          172000.0|     NEAR OCEAN|\n",
            "|  -118.43|   34.02|              41.0|     2403.0|         516.0|    1001.0|     514.0|       4.3906|          500001.0|      <1H OCEAN|\n",
            "|  -117.14|   32.75|              29.0|     1961.0|         565.0|    1002.0|     569.0|       2.2813|          118100.0|     NEAR OCEAN|\n",
            "|  -117.13|   32.92|              17.0|     1481.0|         315.0|    1002.0|     300.0|       3.6196|          163400.0|      <1H OCEAN|\n",
            "|   -121.0|   37.25|              21.0|     1937.0|         389.0|    1002.0|     373.0|       2.6087|           96200.0|         INLAND|\n",
            "|  -118.07|   33.99|              41.0|     1204.0|         252.0|    1002.0|     248.0|       3.0577|          163300.0|      <1H OCEAN|\n",
            "+---------+--------+------------------+-----------+--------------+----------+----------+-------------+------------------+---------------+\n",
            "only showing top 20 rows\n",
            "\n"
          ]
        }
      ],
      "source": [
        "# filter: returns a new DataFrame containing only the elements in the parent DataFrame that satisfy the function inside filter (as in RDDs)\n",
        "# orderBY: orders the DataFrame by the selected column(s)\n",
        "df.filter(df.population > 1000).orderBy(df.population.asc()).show()"
      ]
    },
    {
      "cell_type": "code",
      "execution_count": 113,
      "metadata": {
        "id": "1qv5_B90Raho",
        "outputId": "0400e3b2-31c0-4885-bf25-5569ee47e065",
        "colab": {
          "base_uri": "https://localhost:8080/"
        }
      },
      "outputs": [
        {
          "output_type": "stream",
          "name": "stdout",
          "text": [
            "+---------------+-----------------------+--------+\n",
            "|ocean_proximity|avg(median_house_value)|count(1)|\n",
            "+---------------+-----------------------+--------+\n",
            "|         ISLAND|               380440.0|       5|\n",
            "|     NEAR OCEAN|     249433.97742663656|    2658|\n",
            "|       NEAR BAY|     259212.31179039303|    2290|\n",
            "|      <1H OCEAN|     240084.28546409807|    9136|\n",
            "|         INLAND|     124805.39200122119|    6551|\n",
            "+---------------+-----------------------+--------+\n",
            "\n"
          ]
        }
      ],
      "source": [
        "# groupBy: returns a new DataFrame which is the result of an aggregation\n",
        "df.groupBy(df.ocean_proximity).agg({'median_house_value': 'avg', '*': 'count'}).show()"
      ]
    },
    {
      "cell_type": "code",
      "execution_count": 114,
      "metadata": {
        "id": "E3b1rxzMN7Lm",
        "outputId": "a1a4ad28-c7d1-4591-8add-85aa74a54371",
        "colab": {
          "base_uri": "https://localhost:8080/"
        }
      },
      "outputs": [
        {
          "output_type": "stream",
          "name": "stdout",
          "text": [
            "+---------------+----+\n",
            "|ocean_proximity| tot|\n",
            "+---------------+----+\n",
            "|         ISLAND|   5|\n",
            "|     NEAR OCEAN|2658|\n",
            "|       NEAR BAY|2290|\n",
            "|      <1H OCEAN|9136|\n",
            "|         INLAND|6551|\n",
            "+---------------+----+\n",
            "\n"
          ]
        }
      ],
      "source": [
        "# withColumnRenamed: rename a column\n",
        "df.groupBy(df.ocean_proximity).agg({'*': 'count'}).withColumnRenamed(\"count(1)\", \"tot\").show()"
      ]
    },
    {
      "cell_type": "code",
      "execution_count": 115,
      "metadata": {
        "id": "TaP-GatdTD7k",
        "outputId": "29f34634-1fe0-47b8-df99-d97720eac31b",
        "colab": {
          "base_uri": "https://localhost:8080/"
        }
      },
      "outputs": [
        {
          "output_type": "stream",
          "name": "stdout",
          "text": [
            "+---------------+------------------+\n",
            "|ocean_proximity|         avg_price|\n",
            "+---------------+------------------+\n",
            "|         ISLAND|          380440.0|\n",
            "|       NEAR BAY|259212.31179039303|\n",
            "|     NEAR OCEAN|249433.97742663656|\n",
            "|      <1H OCEAN|240084.28546409807|\n",
            "|         INLAND|124805.39200122119|\n",
            "+---------------+------------------+\n",
            "\n"
          ]
        }
      ],
      "source": [
        "# SQL queries can be run on a DataFrame\n",
        "df.createOrReplaceTempView(\"housing\")\n",
        "spark.sql(\"select ocean_proximity, avg(median_house_value) as avg_price from housing group by ocean_proximity order by avg_price desc\").show()"
      ]
    },
    {
      "cell_type": "markdown",
      "metadata": {
        "id": "Dv5BUnaAWWEi"
      },
      "source": [
        "# Exercise: creating a cube\n",
        "\n",
        "You are working with two files:\n",
        "\n",
        "- weather-stations.csv: it contains a list of weather stations that capture weather information every day of every year throughout the world\n",
        "  - Each station is identified by a StationID\n",
        "- weather-sample-10k.csv: it contains the data measured by a certain station on a certain date (a sample of 10k lines collected from the National Climatic Data Center of the USA)\n",
        "  - Each weather measurenent is identified by a StationID and a Timestamp\n",
        "\n",
        "Your goal is to create a single file representing the following cube and to run some queries through PowerBI.\n",
        "\n",
        "![image.png](data:image/png;base64,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)\n",
        "\n",
        "The procedure to create the cube is the following.\n",
        "\n",
        "1. On the stations file:\n",
        "  1. replace empty states and countries in stations with a placeholder value (e.g., \"XX\");\n",
        "  1. keep only the following fields: stationId, state, country, elevation\n",
        "2. On the weather-sample file:\n",
        "  1. filter out weather wrong measurements (i.e., where airTemperatureQuality=9);\n",
        "  1. keep only the following fields: stationId, airTemperature, date, month, year\n",
        "  1. create a new fulldate field by concatenating year, month, and date\n",
        "  1. create a new fullmonth field by concatenating year and month\n",
        "1. Join stations with weather measurements on the stationId field\n",
        "1. Keep only the following fields: state, country, elevation, fulldate, fullmonth, year, airTemperature\n",
        "1. Aggregate the measurements by state and date to take the average temperature\n",
        "  - Group by: state, country, elevation, fulldate, fullmonth, year\n",
        "  - Calculation: avg(airTemperature)\n",
        "1. Save the result on a file"
      ]
    },
    {
      "cell_type": "code",
      "execution_count": 116,
      "metadata": {
        "id": "REn3hjicbRFL",
        "outputId": "f96a6ccf-fb40-4932-ee6b-ede4c735f229",
        "colab": {
          "base_uri": "https://localhost:8080/"
        }
      },
      "outputs": [
        {
          "output_type": "stream",
          "name": "stdout",
          "text": [
            "--2023-10-12 20:52:35--  https://raw.githubusercontent.com/w4bo/2023-bbs-op-datamining/main/materials/datasets/weather-stations.csv\n",
            "Resolving raw.githubusercontent.com (raw.githubusercontent.com)... 185.199.109.133, 185.199.110.133, 185.199.111.133, ...\n",
            "Connecting to raw.githubusercontent.com (raw.githubusercontent.com)|185.199.109.133|:443... connected.\n",
            "HTTP request sent, awaiting response... 200 OK\n",
            "Length: 2938813 (2.8M) [text/plain]\n",
            "Saving to: ‘weather-stations.csv’\n",
            "\n",
            "weather-stations.cs 100%[===================>]   2.80M  --.-KB/s    in 0.09s   \n",
            "\n",
            "2023-10-12 20:52:36 (31.0 MB/s) - ‘weather-stations.csv’ saved [2938813/2938813]\n",
            "\n",
            "--2023-10-12 20:52:36--  https://raw.githubusercontent.com/w4bo/2023-bbs-op-datamining/main/materials/datasets/weather-sample-10k.txt\n",
            "Resolving raw.githubusercontent.com (raw.githubusercontent.com)... 185.199.110.133, 185.199.111.133, 185.199.108.133, ...\n",
            "Connecting to raw.githubusercontent.com (raw.githubusercontent.com)|185.199.110.133|:443... connected.\n",
            "HTTP request sent, awaiting response... 200 OK\n",
            "Length: 2481653 (2.4M) [text/plain]\n",
            "Saving to: ‘weather-sample-10k.txt’\n",
            "\n",
            "weather-sample-10k. 100%[===================>]   2.37M  --.-KB/s    in 0.09s   \n",
            "\n",
            "2023-10-12 20:52:36 (27.0 MB/s) - ‘weather-sample-10k.txt’ saved [2481653/2481653]\n",
            "\n"
          ]
        }
      ],
      "source": [
        "!wget https://raw.githubusercontent.com/w4bo/2023-bbs-op-datamining/main/materials/datasets/weather-stations.csv\n",
        "!wget https://raw.githubusercontent.com/w4bo/2023-bbs-op-datamining/main/materials/datasets/weather-sample-10k.txt"
      ]
    },
    {
      "cell_type": "markdown",
      "metadata": {
        "id": "xO6bQ3NQwDAj"
      },
      "source": [
        "## Spark"
      ]
    },
    {
      "cell_type": "code",
      "execution_count": 117,
      "metadata": {
        "id": "Xcd4fAhgeDhH",
        "outputId": "8ca438e8-4a23-4178-eb0b-4a76fc4b8e52",
        "colab": {
          "base_uri": "https://localhost:8080/"
        }
      },
      "outputs": [
        {
          "output_type": "stream",
          "name": "stdout",
          "text": [
            "+-----------+----+-----+---+--------------+---------------------+\n",
            "|  stationId|year|month|day|airTemperature|airTemperatureQuality|\n",
            "+-----------+----+-----+---+--------------+---------------------+\n",
            "|02924099999|2000|   08| 23|          11.3|                    1|\n",
            "|02947099999|2000|   06| 11|          22.8|                    1|\n",
            "|03002099999|2000|   01| 31|           4.4|                    1|\n",
            "|03041099999|2000|   05| 17|           0.4|                    1|\n",
            "|02935099999|2000|   06| 12|          10.1|                    1|\n",
            "|02919099999|2000|   03| 31|           6.5|                    1|\n",
            "|02913099999|2000|   10| 06|          12.0|                    1|\n",
            "|03002099999|2000|   11| 11|           8.2|                    1|\n",
            "|02944099999|2000|   09| 23|          -0.9|                    1|\n",
            "|03014099999|2000|   04| 13|           3.8|                    1|\n",
            "|02958099999|2000|   08| 13|         999.9|                    9|\n",
            "|02970099999|2000|   07| 03|         999.9|                    9|\n",
            "|02869099999|2000|   04| 14|           0.0|                    1|\n",
            "|02952099999|2000|   02| 06|           4.0|                    1|\n",
            "|02966099999|2000|   02| 07|           2.0|                    1|\n",
            "|03035099999|2000|   09| 23|          13.5|                    1|\n",
            "|02947499999|2000|   04| 09|         999.9|                    9|\n",
            "|02915099999|2000|   01| 08|           2.3|                    1|\n",
            "|02913599999|2000|   11| 23|           0.0|                    1|\n",
            "|03062099999|2000|   04| 09|           5.5|                    1|\n",
            "+-----------+----+-----+---+--------------+---------------------+\n",
            "only showing top 20 rows\n",
            "\n"
          ]
        }
      ],
      "source": [
        "dfW = sc.textFile(\"weather-sample-10k.txt\")\\\n",
        "  .map(lambda l: (l[4:15],l[15:19],l[19:21],l[21:23],int(l[87:92])/10,l[92:93]))\\\n",
        "  .toDF([\"stationId\",\"year\",\"month\",\"day\",\"airTemperature\",\"airTemperatureQuality\"])\n",
        "dfW.show()"
      ]
    },
    {
      "cell_type": "code",
      "execution_count": 118,
      "metadata": {
        "id": "OaknyiXHeCbF",
        "outputId": "7fabdafe-3155-4cc2-a285-1ba3358e48a4",
        "colab": {
          "base_uri": "https://localhost:8080/"
        }
      },
      "outputs": [
        {
          "output_type": "stream",
          "name": "stdout",
          "text": [
            "+-----------+----------+-------+-----+----+--------+---------+---------+----------+--------+\n",
            "|  stationId|      city|country|state|call|latitude|longitude|elevation|date_begin|date_end|\n",
            "+-----------+----------+-------+-----+----+--------+---------+---------+----------+--------+\n",
            "|00700599999|CWOS 07005|   null| null|null|    null|     null|     null|  20120127|20120127|\n",
            "|00701199999|CWOS 07011|   null| null|null|    null|     null|     null|  20120101|20121129|\n",
            "|00701899999|WXPOD 7018|   null| null|null| +00.000| +000.000|  +7018.0|  20130710|20130730|\n",
            "|00702599999|CWOS 07025|   null| null|null|    null|     null|     null|  20120127|20120127|\n",
            "|00702699999|WXPOD 7026|     AF| null|null| +00.000| +000.000|  +7026.0|  20120713|20170715|\n",
            "|00703499999|CWOS 07034|   null| null|null|    null|     null|     null|  20121024|20121106|\n",
            "|00703799999|CWOS 07037|   null| null|null|    null|     null|     null|  20120726|20121125|\n",
            "|00704499999|CWOS 07044|   null| null|null|    null|     null|     null|  20120127|20120127|\n",
            "|00704799999|CWOS 07047|   null| null|null|    null|     null|     null|  20120613|20120717|\n",
            "|00705299999|CWOS 07052|   null| null|null|    null|     null|     null|  20121129|20121130|\n",
            "|00705999999|CWOS 07059|   null| null|null|    null|     null|     null|  20120314|20120828|\n",
            "|00706499999|CWOS 07064|   null| null|null|    null|     null|     null|  20121218|20121219|\n",
            "|00707099999|WXPOD 7070|     AF| null|null| +00.000| +000.000|  +7070.0|  20140923|20150926|\n",
            "|00707699999|CWOS 07076|   null| null|null|    null|     null|     null|  20121214|20121217|\n",
            "|00708399999|CWOS 07083|   null| null|null|    null|     null|     null|  20120713|20120717|\n",
            "|00708499999|CWOS 07084|   null| null|null|    null|     null|     null|  20121214|20121217|\n",
            "|00709499999|CWOS 07094|   null| null|null|    null|     null|     null|  20121217|20121217|\n",
            "|00826899999| WXPOD8278|     AF| null|null| +32.950| +065.567|  +1156.7|  20120301|20120323|\n",
            "|00840199999|      XM07|   null| null|null|    null|     null|     null|  20120101|20121219|\n",
            "|00840399999|      XM10|   null| null|null|    null|     null|     null|  20120101|20140412|\n",
            "+-----------+----------+-------+-----+----+--------+---------+---------+----------+--------+\n",
            "only showing top 20 rows\n",
            "\n"
          ]
        }
      ],
      "source": [
        "from pyspark.sql.functions import concat\n",
        "dfS = spark.read.option(\"delimiter\", \",\").option(\"header\", \"false\").csv(\"weather-stations.csv\")\n",
        "dfS = dfS.select(concat(dfS[0],dfS[1]),dfS[2],dfS[3],dfS[4],dfS[5],dfS[6],dfS[7],dfS[8],dfS[9],dfS[10])\\\n",
        "  .toDF(\"stationId\",\"city\",\"country\",\"state\",\"call\",\"latitude\",\"longitude\",\"elevation\",\"date_begin\",\"date_end\")\n",
        "dfS.show()"
      ]
    },
    {
      "cell_type": "markdown",
      "metadata": {
        "id": "8QqJZrglm-ZD"
      },
      "source": [
        "1. On the stations file:\n",
        "  1. replace empty states and countries in stations with a placeholder value (e.g., \"XX\");\n",
        "  1. keep only the following fields: stationId, state, country, elevation"
      ]
    },
    {
      "cell_type": "code",
      "execution_count": 119,
      "metadata": {
        "id": "8v1YuN-4nQCQ",
        "outputId": "1f6e0a5a-a663-433f-a24f-09dd4f6a47b3",
        "colab": {
          "base_uri": "https://localhost:8080/"
        }
      },
      "outputs": [
        {
          "output_type": "stream",
          "name": "stdout",
          "text": [
            "+-----------+-----+-------+---------+\n",
            "|  stationId|state|country|elevation|\n",
            "+-----------+-----+-------+---------+\n",
            "|00700599999|   XX|     XX|     null|\n",
            "|00701199999|   XX|     XX|     null|\n",
            "|00701899999|   XX|     XX|  +7018.0|\n",
            "|00702599999|   XX|     XX|     null|\n",
            "|00702699999|   XX|     AF|  +7026.0|\n",
            "|00703499999|   XX|     XX|     null|\n",
            "|00703799999|   XX|     XX|     null|\n",
            "|00704499999|   XX|     XX|     null|\n",
            "|00704799999|   XX|     XX|     null|\n",
            "|00705299999|   XX|     XX|     null|\n",
            "|00705999999|   XX|     XX|     null|\n",
            "|00706499999|   XX|     XX|     null|\n",
            "|00707099999|   XX|     AF|  +7070.0|\n",
            "|00707699999|   XX|     XX|     null|\n",
            "|00708399999|   XX|     XX|     null|\n",
            "|00708499999|   XX|     XX|     null|\n",
            "|00709499999|   XX|     XX|     null|\n",
            "|00826899999|   XX|     AF|  +1156.7|\n",
            "|00840199999|   XX|     XX|     null|\n",
            "|00840399999|   XX|     XX|     null|\n",
            "+-----------+-----+-------+---------+\n",
            "only showing top 20 rows\n",
            "\n"
          ]
        }
      ],
      "source": [
        "dfS1 = dfS.fillna({'state': 'XX', 'country':'XX'})\n",
        "dfS2 = dfS1.select('stationId','state','country','elevation')\n",
        "dfS2.show()"
      ]
    },
    {
      "cell_type": "markdown",
      "metadata": {
        "id": "5LxL1WQvnF0J"
      },
      "source": [
        "2. On the weather-sample file:\n",
        "  1. filter out weather wrong measurements (i.e., where airTemperatureQuality=9);\n",
        "  1. keep only the following fields: stationId, airTemperature, date, month, year\n",
        "  1. create a new fulldate field by concatenating year, month, and date\n",
        "  1. create a new fullmonth field by concatenating year and month"
      ]
    },
    {
      "cell_type": "code",
      "execution_count": 120,
      "metadata": {
        "id": "Cf9bm6CspR8x",
        "outputId": "e836c339-ce3c-4867-9117-82fa473fb5fa",
        "colab": {
          "base_uri": "https://localhost:8080/"
        }
      },
      "outputs": [
        {
          "output_type": "stream",
          "name": "stdout",
          "text": [
            "+-----------+--------------+---+-----+----+----------+---------+\n",
            "|  stationId|airTemperature|day|month|year|  fulldate|fullmonth|\n",
            "+-----------+--------------+---+-----+----+----------+---------+\n",
            "|03002099999|           4.4| 31|   01|2000|2000-01-31|  2000-01|\n",
            "|03041099999|           0.4| 17|   05|2000|2000-05-17|  2000-05|\n",
            "|02919099999|           6.5| 31|   03|2000|2000-03-31|  2000-03|\n",
            "|03002099999|           8.2| 11|   11|2000|2000-11-11|  2000-11|\n",
            "|02944099999|          -0.9| 23|   09|2000|2000-09-23|  2000-09|\n",
            "|03014099999|           3.8| 13|   04|2000|2000-04-13|  2000-04|\n",
            "|02869099999|           0.0| 14|   04|2000|2000-04-14|  2000-04|\n",
            "|02952099999|           4.0| 06|   02|2000|2000-02-06|  2000-02|\n",
            "|02966099999|           2.0| 07|   02|2000|2000-02-07|  2000-02|\n",
            "|02915099999|           2.3| 08|   01|2000|2000-01-08|  2000-01|\n",
            "|02913599999|           0.0| 23|   11|2000|2000-11-23|  2000-11|\n",
            "|03062099999|           5.5| 09|   04|2000|2000-04-09|  2000-04|\n",
            "|03066099999|           4.3| 12|   04|2000|2000-04-12|  2000-04|\n",
            "|03062099999|           5.8| 25|   02|2000|2000-02-25|  2000-02|\n",
            "|03065099999|           0.6| 10|   01|2000|2000-01-10|  2000-01|\n",
            "|03007099999|           7.0| 04|   01|2000|2000-01-04|  2000-01|\n",
            "|03017099999|           2.0| 30|   12|2000|2000-12-30|  2000-12|\n",
            "|02874099999|           6.0| 27|   04|2000|2000-04-27|  2000-04|\n",
            "|03055099999|           3.5| 12|   02|2000|2000-02-12|  2000-02|\n",
            "|03005099999|           5.2| 16|   11|2000|2000-11-16|  2000-11|\n",
            "+-----------+--------------+---+-----+----+----------+---------+\n",
            "only showing top 20 rows\n",
            "\n"
          ]
        }
      ],
      "source": [
        "from pyspark.sql.functions import concat, lit\n",
        "dfW1 = dfW.where(\"airTemperature < 9\")\n",
        "dfW2 = dfW1.select('stationId','airTemperature','day','month','year')\n",
        "dfW3 = dfW2.withColumn(\"fulldate\", concat(dfW1.year,lit(\"-\"),dfW1.month,lit(\"-\"),dfW1.day))\n",
        "dfW4 = dfW3.withColumn(\"fullmonth\", concat(dfW1.year,lit(\"-\"),dfW1.month))\n",
        "dfW4.show()"
      ]
    },
    {
      "cell_type": "markdown",
      "metadata": {
        "id": "jy2yp35unHhO"
      },
      "source": [
        "3. Join stations with weather measurements on the stationId field\n"
      ]
    },
    {
      "cell_type": "code",
      "execution_count": 121,
      "metadata": {
        "id": "oHTKQhQJrPMU",
        "outputId": "3ce67fed-8908-4012-cf0f-86a0ad143021",
        "colab": {
          "base_uri": "https://localhost:8080/"
        }
      },
      "outputs": [
        {
          "output_type": "stream",
          "name": "stdout",
          "text": [
            "+-----------+-----+-------+---------+--------------+---+-----+----+----------+---------+\n",
            "|  stationId|state|country|elevation|airTemperature|day|month|year|  fulldate|fullmonth|\n",
            "+-----------+-----+-------+---------+--------------+---+-----+----+----------+---------+\n",
            "|03002099999|   XX|     UK|  +0015.0|           4.4| 31|   01|2000|2000-01-31|  2000-01|\n",
            "|03041099999|   XX|     UK|  +1130.0|           0.4| 17|   05|2000|2000-05-17|  2000-05|\n",
            "|02919099999|   XX|     FI|  +0077.0|           6.5| 31|   03|2000|2000-03-31|  2000-03|\n",
            "|03002099999|   XX|     UK|  +0015.0|           8.2| 11|   11|2000|2000-11-11|  2000-11|\n",
            "|02944099999|   XX|     FI|  +0118.9|          -0.9| 23|   09|2000|2000-09-23|  2000-09|\n",
            "|03014099999|   XX|     UK|  +0013.0|           3.8| 13|   04|2000|2000-04-13|  2000-04|\n",
            "|02869099999|   XX|     FI|  +0264.0|           0.0| 14|   04|2000|2000-04-14|  2000-04|\n",
            "|02952099999|   XX|     FI|  +0013.4|           4.0| 06|   02|2000|2000-02-06|  2000-02|\n",
            "|02966099999|   XX|     FI|  +0103.3|           2.0| 07|   02|2000|2000-02-07|  2000-02|\n",
            "|02915099999|   XX|     FI|  +0132.0|           2.3| 08|   01|2000|2000-01-08|  2000-01|\n",
            "|02913599999|   XX|     FI|  +0026.0|           0.0| 23|   11|2000|2000-11-23|  2000-11|\n",
            "|03062099999|   XX|     UK|  +0004.0|           5.5| 09|   04|2000|2000-04-09|  2000-04|\n",
            "|03066099999|   XX|     UK|  +0006.7|           4.3| 12|   04|2000|2000-04-12|  2000-04|\n",
            "|03062099999|   XX|     UK|  +0004.0|           5.8| 25|   02|2000|2000-02-25|  2000-02|\n",
            "|03065099999|   XX|     UK|  +1245.0|           0.6| 10|   01|2000|2000-01-10|  2000-01|\n",
            "|03007099999|   XX|     UK|  +0020.0|           7.0| 04|   01|2000|2000-01-04|  2000-01|\n",
            "|03017099999|   XX|     UK|  +0015.5|           2.0| 30|   12|2000|2000-12-30|  2000-12|\n",
            "|02874099999|   XX|     FI|  +0006.0|           6.0| 27|   04|2000|2000-04-27|  2000-04|\n",
            "|03055099999|   XX|     UK|  +0018.0|           3.5| 12|   02|2000|2000-02-12|  2000-02|\n",
            "|03005099999|   XX|     UK|  +0084.0|           5.2| 16|   11|2000|2000-11-16|  2000-11|\n",
            "+-----------+-----+-------+---------+--------------+---+-----+----+----------+---------+\n",
            "only showing top 20 rows\n",
            "\n"
          ]
        }
      ],
      "source": [
        "dfJ = dfS2.join(dfW4, \"stationId\")\n",
        "dfJ.show()"
      ]
    },
    {
      "cell_type": "markdown",
      "metadata": {
        "id": "mv_dfniznJ2A"
      },
      "source": [
        "4. Keep only the following fields: state, country, elevation, fulldate, fullmonth, year, airTemperature"
      ]
    },
    {
      "cell_type": "code",
      "execution_count": 122,
      "metadata": {
        "id": "dYyMxZaSrprK",
        "outputId": "d5327d13-7c69-4543-f4a8-b7ba12a9aa1f",
        "colab": {
          "base_uri": "https://localhost:8080/"
        }
      },
      "outputs": [
        {
          "output_type": "stream",
          "name": "stdout",
          "text": [
            "+-----+-------+---------+----------+---------+----+--------------+\n",
            "|state|country|elevation|  fulldate|fullmonth|year|airTemperature|\n",
            "+-----+-------+---------+----------+---------+----+--------------+\n",
            "|   XX|     UK|  +0015.0|2000-01-31|  2000-01|2000|           4.4|\n",
            "|   XX|     UK|  +1130.0|2000-05-17|  2000-05|2000|           0.4|\n",
            "|   XX|     FI|  +0077.0|2000-03-31|  2000-03|2000|           6.5|\n",
            "|   XX|     UK|  +0015.0|2000-11-11|  2000-11|2000|           8.2|\n",
            "|   XX|     FI|  +0118.9|2000-09-23|  2000-09|2000|          -0.9|\n",
            "|   XX|     UK|  +0013.0|2000-04-13|  2000-04|2000|           3.8|\n",
            "|   XX|     FI|  +0264.0|2000-04-14|  2000-04|2000|           0.0|\n",
            "|   XX|     FI|  +0013.4|2000-02-06|  2000-02|2000|           4.0|\n",
            "|   XX|     FI|  +0103.3|2000-02-07|  2000-02|2000|           2.0|\n",
            "|   XX|     FI|  +0132.0|2000-01-08|  2000-01|2000|           2.3|\n",
            "|   XX|     FI|  +0026.0|2000-11-23|  2000-11|2000|           0.0|\n",
            "|   XX|     UK|  +0004.0|2000-04-09|  2000-04|2000|           5.5|\n",
            "|   XX|     UK|  +0006.7|2000-04-12|  2000-04|2000|           4.3|\n",
            "|   XX|     UK|  +0004.0|2000-02-25|  2000-02|2000|           5.8|\n",
            "|   XX|     UK|  +1245.0|2000-01-10|  2000-01|2000|           0.6|\n",
            "|   XX|     UK|  +0020.0|2000-01-04|  2000-01|2000|           7.0|\n",
            "|   XX|     UK|  +0015.5|2000-12-30|  2000-12|2000|           2.0|\n",
            "|   XX|     FI|  +0006.0|2000-04-27|  2000-04|2000|           6.0|\n",
            "|   XX|     UK|  +0018.0|2000-02-12|  2000-02|2000|           3.5|\n",
            "|   XX|     UK|  +0084.0|2000-11-16|  2000-11|2000|           5.2|\n",
            "+-----+-------+---------+----------+---------+----+--------------+\n",
            "only showing top 20 rows\n",
            "\n"
          ]
        }
      ],
      "source": [
        "dfJ2 = dfJ.select(\"state\", \"country\", \"elevation\", \"fulldate\", \"fullmonth\", \"year\", \"airTemperature\")\n",
        "dfJ2.show()"
      ]
    },
    {
      "cell_type": "markdown",
      "metadata": {
        "id": "YXKChhXwnLlv"
      },
      "source": [
        "5. Aggregate the measurements by state, country and date to take the average temperature\n",
        "  - Group by: state, country, elevation, fulldate, fullmonth, year\n",
        "  - Calculation: avg(airTemperature)"
      ]
    },
    {
      "cell_type": "code",
      "execution_count": 123,
      "metadata": {
        "id": "shVr9k9hryqH",
        "outputId": "1f85cae8-0c68-4fee-aeba-53da000da131",
        "colab": {
          "base_uri": "https://localhost:8080/"
        }
      },
      "outputs": [
        {
          "output_type": "stream",
          "name": "stdout",
          "text": [
            "+-----+-------+---------+----------+---------+----+-------------------+\n",
            "|state|country|elevation|  fulldate|fullmonth|year|avg(airTemperature)|\n",
            "+-----+-------+---------+----------+---------+----+-------------------+\n",
            "|   XX|     UK|  +0015.0|2000-03-23|  2000-03|2000|                0.9|\n",
            "|   XX|     FI|  +0013.4|2000-03-11|  2000-03|2000|               -6.3|\n",
            "|   XX|     UK|  +0045.0|2000-12-24|  2000-12|2000|                4.4|\n",
            "|   XX|     UK|  +0006.7|2000-11-20|  2000-11|2000|                2.0|\n",
            "|   XX|     UK|  +0006.1|2000-02-22|  2000-02|2000|                6.0|\n",
            "|   XX|     UK|  +0004.0|2000-03-03|  2000-03|2000|                1.1|\n",
            "|   XX|     FI|  +0013.4|2000-01-02|  2000-01|2000|                1.0|\n",
            "|   XX|     FI|  +0100.3|2000-01-15|  2000-01|2000|               -2.0|\n",
            "|   XX|     UK|  +0018.0|2000-04-01|  2000-04|2000|                6.1|\n",
            "|   XX|     FI|  +0106.4|2000-04-08|  2000-04|2000|                1.7|\n",
            "|   XX|     FI|  +0264.0|2000-11-25|  2000-11|2000|               -0.3|\n",
            "|   XX|     FI|  +0006.8|2000-02-15|  2000-02|2000|                1.4|\n",
            "|   XX|     UK|  +1245.0|2000-09-19|  2000-09|2000|                0.5|\n",
            "|   XX|     UK|  +0012.8|2000-08-17|  2000-08|2000|                8.0|\n",
            "|   XX|     FI|  +0103.0|2000-09-18|  2000-09|2000|                3.6|\n",
            "|   XX|     FI|  +0005.8|2000-12-30|  2000-12|2000|               -7.0|\n",
            "|   XX|     FI|  +0013.4|2000-08-24|  2000-08|2000|                7.3|\n",
            "|   XX|     FI|  +0013.1|2000-09-17|  2000-09|2000|                5.3|\n",
            "|   XX|     FI|  +0264.0|2000-11-23|  2000-11|2000|               -5.8|\n",
            "|   XX|     UK|  +0012.8|2000-05-26|  2000-05|2000|                8.6|\n",
            "+-----+-------+---------+----------+---------+----+-------------------+\n",
            "only showing top 20 rows\n",
            "\n"
          ]
        }
      ],
      "source": [
        "dfG = dfJ2.groupBy(\"state\", \"country\", \"elevation\", \"fulldate\", \"fullmonth\", \"year\").agg({'airTemperature': 'avg'})\n",
        "dfG.show()"
      ]
    },
    {
      "cell_type": "markdown",
      "metadata": {
        "id": "zwXx8h-tv4-v"
      },
      "source": [
        "6. Save the result on a file"
      ]
    },
    {
      "cell_type": "code",
      "execution_count": 124,
      "metadata": {
        "id": "pKTH93LQu61U"
      },
      "outputs": [],
      "source": [
        "dfG.write.mode('overwrite').option('header','true').csv(\"weather-cube\")"
      ]
    },
    {
      "cell_type": "markdown",
      "metadata": {
        "id": "jkKWX-mWv8S9"
      },
      "source": [
        "## Power BI\n",
        "\n",
        "Download the file from the left panel of this notebook (in case of issues, download it from [here](https://raw.githubusercontent.com/w4bo/2023-bbs-dm/master/materials/datasets/weather-cube.csv)) and load it in Power BI.\n",
        "- (optional) Create the hierarchies\n",
        "- Visualize the daily trend of average temperatures for each country\n",
        "- Show the average temperature on the map\n",
        "- Compute bins for the elevation field and show the average temperature for each bin\n",
        "\n",
        "\n",
        "The final Power BI file will be available [here](https://raw.githubusercontent.com/w4bo/2023-bbs-dm/master/materials/results/weather-cube.pbix)."
      ]
    },
    {
      "cell_type": "markdown",
      "metadata": {
        "id": "679cmN5vLOMH"
      },
      "source": [
        "# Additional exercises\n",
        "\n",
        "Carry out the following operations (in any order).\n",
        "\n",
        "- Check if there exist stations with a negative elevation; then, calculate how many of these stations exist in each country; rename the result to \"cnt\" and order the result by decreasing cnt\n",
        "- Take only stations with positive elevation, compute the maximum elevation by country and rename the result to \"elevation\"; then, join the result with the original dfS to get, for each country, the name of the city with the highest elevation (join key: ```[\"country\",\"elevation\"]```); order the result by decreasing elevation\n",
        "- Take only weather values with airQuality==1, compute the minimum temperature for each stationId and rename it to \"minTemperature\"; then, join the result with dfS and keep only the columns \"minTemperature\" and \"elevation\"; finally, use the correlation between the two columns. To do the last part, you need to:\n",
        "  - cast the elevation to an integer datatype: you need to add ```from pyspark.sql.types import IntegerType``` and then ```df.myfield.cast(IntegerType())```;\n",
        "  - compute the correlation with ```df.stat.corr(\"myfield1\",\"myfield2\")```.\n",
        "\n",
        "The solution will be available [here](https://raw.githubusercontent.com/w4bo/2023-bbs-dm/master/materials/results/03-SparkBasics-solution.ipynb)."
      ]
    }
  ],
  "metadata": {
    "colab": {
      "collapsed_sections": [
        "jcoFwGvm4gj6",
        "iyH7halU9HiB",
        "gKJ_7MCsAIy_"
      ],
      "provenance": [],
      "include_colab_link": true
    },
    "kernelspec": {
      "display_name": "Python 3 (ipykernel)",
      "language": "python",
      "name": "python3"
    },
    "language_info": {
      "codemirror_mode": {
        "name": "ipython",
        "version": 3
      },
      "file_extension": ".py",
      "mimetype": "text/x-python",
      "name": "python",
      "nbconvert_exporter": "python",
      "pygments_lexer": "ipython3",
      "version": "3.10.13"
    }
  },
  "nbformat": 4,
  "nbformat_minor": 0
}